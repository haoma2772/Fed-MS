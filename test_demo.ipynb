{
 "cells": [
  {
   "cell_type": "code",
   "execution_count": null,
   "metadata": {},
   "outputs": [],
   "source": [
    "import torch\n",
    "a = [[1,5,9],\n",
    "     [3,9,10],\n",
    "     [99,1,3],\n",
    "     [5,90,10],\n",
    "     [0.1,0.2,0.113],\n",
    "     [-1,2,-10],\n",
    "     ]\n",
    "\n",
    "a = torch.tensor(a)\n",
    "b, indices = torch.sort(a, dim=0)\n",
    "print(b)\n",
    "c = b[0:6]\n",
    "print(c.data)\n",
    "# d = torch.median(c, dim=0)[0]\n",
    "# print(d)\n",
    "d = torch.mean(c, dim = 0)\n",
    "print(d)\n",
    "e = torch.reshape(d, a[0].shape)\n",
    "print(e)\n",
    "\n"
   ]
  },
  {
   "cell_type": "code",
   "execution_count": null,
   "metadata": {},
   "outputs": [],
   "source": [
    "attacker_num = int(0.2 * 10)\n",
    "import torch\n",
    "a= [3,5,6]\n",
    "attacker_id:list = torch.arange(0,attacker_num)\n",
    "print(attacker_id)\n",
    "for idx in attacker_id:\n",
    "    print(a[idx])"
   ]
  },
  {
   "cell_type": "code",
   "execution_count": null,
   "metadata": {},
   "outputs": [],
   "source": [
    "for i in range(0):\n",
    "    print(151)"
   ]
  },
  {
   "cell_type": "code",
   "execution_count": null,
   "metadata": {},
   "outputs": [],
   "source": [
    "import torch\n",
    "\n",
    "times = torch.zeros(10, dtype=torch.int)\n",
    "print(times)\n",
    "print(times[0])\n"
   ]
  },
  {
   "cell_type": "code",
   "execution_count": null,
   "metadata": {},
   "outputs": [],
   "source": [
    "import torch\n",
    "\n",
    "\n",
    "attacker_num = 0\n",
    "\n",
    "attacker_id:list = torch.arange(0,attacker_num)\n",
    "print(attacker_id)\n",
    "for idx in attacker_id:\n",
    "    print(idx)"
   ]
  },
  {
   "cell_type": "code",
   "execution_count": null,
   "metadata": {},
   "outputs": [],
   "source": [
    "import torch\n",
    "attacker_num = 0\n",
    "attacker_id:list = torch.arange(0,attacker_num)\n",
    "print(attacker_id)"
   ]
  },
  {
   "cell_type": "code",
   "execution_count": null,
   "metadata": {},
   "outputs": [],
   "source": [
    "server_num = 5\n",
    "client_number = 10\n",
    "import torch\n",
    "select_server_id: list = torch.randint(0, server_num, (client_number,))\n",
    "print(select_server_id)"
   ]
  },
  {
   "cell_type": "code",
   "execution_count": null,
   "metadata": {},
   "outputs": [],
   "source": [
    "import matplotlib.pyplot as plt\n",
    "\n",
    "print(plt.style.available)"
   ]
  },
  {
   "cell_type": "code",
   "execution_count": null,
   "metadata": {},
   "outputs": [],
   "source": [
    "import torch\n",
    "\n",
    "# 假设你想要的任意数值在区间 [a, b) 上均匀分布\n",
    "a, b = -10.0, 10  # 替换为你想要的范围\n",
    "paras_select = torch.rand((5,2,3))\n",
    "# 生成与 paras_select 具有相同形状的随机数张量\n",
    "random_tensor = a + (b - a) * torch.rand_like(paras_select)\n",
    "print(random_tensor)"
   ]
  },
  {
   "cell_type": "code",
   "execution_count": null,
   "metadata": {},
   "outputs": [],
   "source": [
    "\n",
    "import torch\n",
    "server_num = 10\n",
    "client_number = 50\n",
    "\n",
    "select_server_id: list = torch.randint(0, server_num, (client_number,))\n",
    "print(select_server_id)"
   ]
  },
  {
   "cell_type": "code",
   "execution_count": null,
   "metadata": {},
   "outputs": [],
   "source": [
    "a = 15\n",
    "b= a\n",
    "b = 1919\n",
    "print(a)\n",
    "print(b)"
   ]
  },
  {
   "cell_type": "code",
   "execution_count": null,
   "metadata": {},
   "outputs": [],
   "source": [
    "import numpy as np\n",
    "distances = [[4,1,3],[10,3,9]]\n",
    "num_server = 3\n",
    "num_attacker = 1\n",
    "\n",
    "top_m_indices = _multi_krum(distances, len(updates), self.f, self.m)\n",
    "values = torch.stack([updates[i] for i in top_m_indices], dim=0).mean(dim=0)"
   ]
  },
  {
   "cell_type": "code",
   "execution_count": null,
   "metadata": {},
   "outputs": [],
   "source": [
    "import torch\n",
    "attacker_num = 4\n",
    "\n",
    "attacker_id = torch.arange(0,attacker_num)\n",
    "print(attacker_id)\n",
    "for idx in attacker_id:\n",
    "    if idx == 0:\n",
    "        print(idx)"
   ]
  }
 ],
 "metadata": {
  "kernelspec": {
   "display_name": "pytorch",
   "language": "python",
   "name": "python3"
  },
  "language_info": {
   "codemirror_mode": {
    "name": "ipython",
    "version": 3
   },
   "file_extension": ".py",
   "mimetype": "text/x-python",
   "name": "python",
   "nbconvert_exporter": "python",
   "pygments_lexer": "ipython3",
   "version": "3.9.18"
  }
 },
 "nbformat": 4,
 "nbformat_minor": 2
}
